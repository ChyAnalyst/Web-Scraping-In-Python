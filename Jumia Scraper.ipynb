{
 "cells": [
  {
   "cell_type": "code",
   "execution_count": 30,
   "metadata": {},
   "outputs": [],
   "source": [
    "from bs4  import BeautifulSoup as soup\n",
    "import requests\n",
    "from requests import get\n",
    "import pandas as pd\n",
    "\n",
    "\n",
    "from time import sleep\n",
    "from random import randint\n",
    "\n",
    "\n",
    "\n",
    "headers = {\"User-Agent\": \"Mozilla/5.0 (Windows NT 10.0; Win64; x64) AppleWebKit/537.36 (KHTML, like Gecko) Chrome/92.0.4515.159 Safari/537.36 \",\"Accept-Encoding\": \"gzip, deflate\", \"Accept\": \"text/html,application/xhtml+xml,application/xml;q=0.9\", \"DNT\":\"1\",\"Connection\":\"close\",\"Upgrade-Insecure-Requests\": \"1\"}\n",
    "\n",
    "ProductName = []\n",
    "Price =[]\n",
    "\n",
    "#page range\n",
    "pages = [str(i) for i in range(1,51)]\n",
    "    \n",
    "#for every page in page range\n",
    "for page in pages:\n",
    "       \n",
    "    #make a get request\n",
    "    html_soup =requests.get (\"https://www.jumia.com.ng/mobile-phones/?page=\"+ page +\"#catalog-listing\",headers = headers).text\n",
    "\n",
    "        \n",
    "    #parse the content of the request with BeautifulSoup\n",
    "    page_soup = soup (html_soup,\"html.parser\")\n",
    "\n",
    "     #select all the phones on a single page\n",
    "    containers = page_soup.findAll(\"div\",{\"class\":\"info\"})\n",
    "    \n",
    "    sleep(randint(2,10))\n",
    "\n",
    "    #for every single of these phones\n",
    "    for container in containers:\n",
    "           \n",
    "        #scrape the name\n",
    "        Name = container.find(\"h3\",{\"class\":\"name\"}).text.strip()\n",
    "        ProductName.append(Name)\n",
    "    \n",
    "         #scrape the price\n",
    "        price = container.find(\"div\",{\"class\":\"prc\"}).text.strip()[1:]\n",
    "        Price.append(price)\n",
    "\n",
    "#create a dataframe\n",
    "Jumia = pd.DataFrame({'ProductName':ProductName,'Price':Price })\n",
    "       \n",
    "        "
   ]
  },
  {
   "cell_type": "code",
   "execution_count": 32,
   "metadata": {},
   "outputs": [
    {
     "name": "stdout",
     "output_type": "stream",
     "text": [
      "                                            ProductName     Price\n",
      "0     Infinix Infinix Note 10 (X693) 6.95-Inch (128G...    80,990\n",
      "1     QUBO BIG1-6.26\" Screen,4500mAh Battery,16GB RO...    29,990\n",
      "2     QUBO BIG1,6.26 Inch Screen,4500mAh ,16GB ROM,8...    29,990\n",
      "3     UMIDIGI A7S Infrared Temperature Sensor 6.53-I...    41,000\n",
      "4     QUBO X228, HD Camera, 2000mAh Battery,Torch,Du...     4,900\n",
      "...                                                 ...       ...\n",
      "2379  Samsung Galaxy Note 10 Plus (Note 10+), 6.8-In...   285,000\n",
      "2380  Htc U11 5.5\" 4GB RAM 64GB ROM 4G LTE Mobile Ph...    76,000\n",
      "2381  Tecno T454 Dual Sim,2.8\"big Screen,1500mah Lon...     8,500\n",
      "2382  Samsung Galaxy Fold, 7.3-Inch (12GB RAM, 512GB...   590,000\n",
      "2383  Samsung Galaxy Note 10 Single Sim Black (8GB R...   260,000\n",
      "\n",
      "[2384 rows x 2 columns]\n"
     ]
    }
   ],
   "source": [
    "print(Jumia)"
   ]
  },
  {
   "cell_type": "code",
   "execution_count": 31,
   "metadata": {},
   "outputs": [
    {
     "data": {
      "text/html": [
       "<div>\n",
       "<style scoped>\n",
       "    .dataframe tbody tr th:only-of-type {\n",
       "        vertical-align: middle;\n",
       "    }\n",
       "\n",
       "    .dataframe tbody tr th {\n",
       "        vertical-align: top;\n",
       "    }\n",
       "\n",
       "    .dataframe thead th {\n",
       "        text-align: right;\n",
       "    }\n",
       "</style>\n",
       "<table border=\"1\" class=\"dataframe\">\n",
       "  <thead>\n",
       "    <tr style=\"text-align: right;\">\n",
       "      <th></th>\n",
       "      <th>ProductName</th>\n",
       "      <th>Price</th>\n",
       "    </tr>\n",
       "  </thead>\n",
       "  <tbody>\n",
       "    <tr>\n",
       "      <td>0</td>\n",
       "      <td>Infinix Infinix Note 10 (X693) 6.95-Inch (128G...</td>\n",
       "      <td>80,990</td>\n",
       "    </tr>\n",
       "    <tr>\n",
       "      <td>1</td>\n",
       "      <td>QUBO BIG1-6.26\" Screen,4500mAh Battery,16GB RO...</td>\n",
       "      <td>29,990</td>\n",
       "    </tr>\n",
       "    <tr>\n",
       "      <td>2</td>\n",
       "      <td>QUBO BIG1,6.26 Inch Screen,4500mAh ,16GB ROM,8...</td>\n",
       "      <td>29,990</td>\n",
       "    </tr>\n",
       "    <tr>\n",
       "      <td>3</td>\n",
       "      <td>UMIDIGI A7S Infrared Temperature Sensor 6.53-I...</td>\n",
       "      <td>41,000</td>\n",
       "    </tr>\n",
       "    <tr>\n",
       "      <td>4</td>\n",
       "      <td>QUBO X228, HD Camera, 2000mAh Battery,Torch,Du...</td>\n",
       "      <td>4,900</td>\n",
       "    </tr>\n",
       "  </tbody>\n",
       "</table>\n",
       "</div>"
      ],
      "text/plain": [
       "                                         ProductName    Price\n",
       "0  Infinix Infinix Note 10 (X693) 6.95-Inch (128G...   80,990\n",
       "1  QUBO BIG1-6.26\" Screen,4500mAh Battery,16GB RO...   29,990\n",
       "2  QUBO BIG1,6.26 Inch Screen,4500mAh ,16GB ROM,8...   29,990\n",
       "3  UMIDIGI A7S Infrared Temperature Sensor 6.53-I...   41,000\n",
       "4  QUBO X228, HD Camera, 2000mAh Battery,Torch,Du...    4,900"
      ]
     },
     "execution_count": 31,
     "metadata": {},
     "output_type": "execute_result"
    }
   ],
   "source": [
    "# display dataframe\n",
    "Jumia.head()"
   ]
  },
  {
   "cell_type": "code",
   "execution_count": 34,
   "metadata": {},
   "outputs": [
    {
     "name": "stdout",
     "output_type": "stream",
     "text": [
      "ProductName    0\n",
      "Price          0\n",
      "dtype: int64\n"
     ]
    }
   ],
   "source": [
    "#check for missing data\n",
    "print(Jumia.isnull().sum())"
   ]
  },
  {
   "cell_type": "code",
   "execution_count": 33,
   "metadata": {},
   "outputs": [],
   "source": [
    "#Save to CSV\n",
    "Jumia.to_csv('Jumia.csv')"
   ]
  },
  {
   "cell_type": "code",
   "execution_count": null,
   "metadata": {},
   "outputs": [],
   "source": []
  }
 ],
 "metadata": {
  "kernelspec": {
   "display_name": "Python 3",
   "language": "python",
   "name": "python3"
  },
  "language_info": {
   "codemirror_mode": {
    "name": "ipython",
    "version": 3
   },
   "file_extension": ".py",
   "mimetype": "text/x-python",
   "name": "python",
   "nbconvert_exporter": "python",
   "pygments_lexer": "ipython3",
   "version": "3.7.4"
  }
 },
 "nbformat": 4,
 "nbformat_minor": 2
}
